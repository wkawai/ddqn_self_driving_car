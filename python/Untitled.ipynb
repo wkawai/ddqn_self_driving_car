{
 "cells": [
  {
   "cell_type": "code",
   "execution_count": 4,
   "metadata": {
    "collapsed": true
   },
   "outputs": [],
   "source": [
    "import numpy as np\n",
    "import matplotlib.pyplot as plt"
   ]
  },
  {
   "cell_type": "code",
   "execution_count": 2,
   "metadata": {
    "collapsed": true
   },
   "outputs": [],
   "source": [
    "obs = np.load('results/2017_12_23_01_32_50/obs_log.npy')"
   ]
  },
  {
   "cell_type": "code",
   "execution_count": 7,
   "metadata": {},
   "outputs": [
    {
     "data": {
      "text/plain": [
       "(10, 40)"
      ]
     },
     "execution_count": 7,
     "metadata": {},
     "output_type": "execute_result"
    }
   ],
   "source": [
    "obs.shape"
   ]
  },
  {
   "cell_type": "code",
   "execution_count": 5,
   "metadata": {},
   "outputs": [
    {
     "data": {
      "text/plain": [
       "[<matplotlib.lines.Line2D at 0x23c5db4b7f0>,\n",
       " <matplotlib.lines.Line2D at 0x23c5db4b9b0>,\n",
       " <matplotlib.lines.Line2D at 0x23c5db4bba8>,\n",
       " <matplotlib.lines.Line2D at 0x23c5db4bda0>,\n",
       " <matplotlib.lines.Line2D at 0x23c5db4bf98>,\n",
       " <matplotlib.lines.Line2D at 0x23c5db5a1d0>,\n",
       " <matplotlib.lines.Line2D at 0x23c5db5a3c8>,\n",
       " <matplotlib.lines.Line2D at 0x23c5db5a5c0>,\n",
       " <matplotlib.lines.Line2D at 0x23c5db5a7b8>,\n",
       " <matplotlib.lines.Line2D at 0x23c5db5a9b0>,\n",
       " <matplotlib.lines.Line2D at 0x23c5d8c9eb8>,\n",
       " <matplotlib.lines.Line2D at 0x23c5db5ad68>,\n",
       " <matplotlib.lines.Line2D at 0x23c5db5af60>,\n",
       " <matplotlib.lines.Line2D at 0x23c5db62198>,\n",
       " <matplotlib.lines.Line2D at 0x23c5db62390>,\n",
       " <matplotlib.lines.Line2D at 0x23c5db62588>,\n",
       " <matplotlib.lines.Line2D at 0x23c5db62780>,\n",
       " <matplotlib.lines.Line2D at 0x23c5db62978>,\n",
       " <matplotlib.lines.Line2D at 0x23c5db62b70>,\n",
       " <matplotlib.lines.Line2D at 0x23c5db62d68>,\n",
       " <matplotlib.lines.Line2D at 0x23c5db62f60>,\n",
       " <matplotlib.lines.Line2D at 0x23c5db66198>,\n",
       " <matplotlib.lines.Line2D at 0x23c5db66390>,\n",
       " <matplotlib.lines.Line2D at 0x23c5db66588>,\n",
       " <matplotlib.lines.Line2D at 0x23c5db66780>,\n",
       " <matplotlib.lines.Line2D at 0x23c5db66978>,\n",
       " <matplotlib.lines.Line2D at 0x23c5db66b70>,\n",
       " <matplotlib.lines.Line2D at 0x23c5db66d68>,\n",
       " <matplotlib.lines.Line2D at 0x23c5db66f60>,\n",
       " <matplotlib.lines.Line2D at 0x23c5db6b198>,\n",
       " <matplotlib.lines.Line2D at 0x23c5db6b390>,\n",
       " <matplotlib.lines.Line2D at 0x23c5db6b588>,\n",
       " <matplotlib.lines.Line2D at 0x23c5db6b780>,\n",
       " <matplotlib.lines.Line2D at 0x23c5db6b978>,\n",
       " <matplotlib.lines.Line2D at 0x23c5db6bb70>,\n",
       " <matplotlib.lines.Line2D at 0x23c5db6bd68>,\n",
       " <matplotlib.lines.Line2D at 0x23c5db6bf60>,\n",
       " <matplotlib.lines.Line2D at 0x23c5db71198>,\n",
       " <matplotlib.lines.Line2D at 0x23c5db71390>,\n",
       " <matplotlib.lines.Line2D at 0x23c5db71588>]"
      ]
     },
     "execution_count": 5,
     "metadata": {},
     "output_type": "execute_result"
    }
   ],
   "source": [
    "plt.plot(obs)"
   ]
  },
  {
   "cell_type": "code",
   "execution_count": 6,
   "metadata": {},
   "outputs": [
    {
     "data": {
      "image/png": "[encoded data removed]",
      "text/plain": [
       "<matplotlib.figure.Figure at 0x23c5cfb3a20>"
      ]
     },
     "metadata": {},
     "output_type": "display_data"
    }
   ],
   "source": [
    "plt.show()"
   ]
  },
  {
   "cell_type": "code",
   "execution_count": null,
   "metadata": {
    "collapsed": true
   },
   "outputs": [],
   "source": []
  }
 ],
 "metadata": {
  "kernelspec": {
   "display_name": "Python 3",
   "language": "python",
   "name": "python3"
  },
  "language_info": {
   "codemirror_mode": {
    "name": "ipython",
    "version": 3
   },
   "file_extension": ".py",
   "mimetype": "text/x-python",
   "name": "python",
   "nbconvert_exporter": "python",
   "pygments_lexer": "ipython3",
   "version": "3.6.2"
  }
 },
 "nbformat": 4,
 "nbformat_minor": 2
}
